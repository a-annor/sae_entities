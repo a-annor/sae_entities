{
 "cells": [
  {
   "cell_type": "code",
   "execution_count": null,
   "metadata": {
    "vscode": {
     "languageId": "plaintext"
    }
   },
   "outputs": [],
   "source": [
    "import json\n",
    "\n",
    "# Load Wikidata output\n",
    "with open('../../processed/entity_prompts/<model_alias>/player_date_birth_free.json', 'r') as f:\n",
    "    wikidata = json.load(f)\n",
    "\n",
    "# Convert to your format\n",
    "converted = [\n",
    "    {\n",
    "        \"prompt\": entry[\"prompt\"],\n",
    "        \"greedy_completion\": entry.get(\"greedy_completion\", None),\n",
    "        \"label\": entry.get(\"label\", \"\")\n",
    "    }\n",
    "    for entry in wikidata\n",
    "]\n",
    "\n",
    "# Use or save\n",
    "with open('my_converted_data.json', 'w') as f:\n",
    "    json.dump(converted, f, indent=2)"
   ]
  }
 ],
 "metadata": {
  "language_info": {
   "name": "python"
  }
 },
 "nbformat": 4,
 "nbformat_minor": 2
}
